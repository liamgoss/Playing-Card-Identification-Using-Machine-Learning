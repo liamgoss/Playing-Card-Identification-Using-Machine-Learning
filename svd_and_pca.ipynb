{
 "cells": [
  {
   "cell_type": "code",
   "execution_count": null,
   "id": "e8c01ad0-fd38-46bb-b1dc-d5e49c53f0ce",
   "metadata": {
    "tags": []
   },
   "outputs": [],
   "source": [
    "#%matplotlib widget \n",
    "#uncomment the above line if you need/want to rotate the PCA plots\n",
    "# You *must* restart the kernel after changing the above line\n",
    "#function to transpose normal (non numpy) array/matrix\n",
    "def transpose_mat(matrix):\n",
    "    row_len = len(matrix[0])\n",
    "    trans_mat = [[row[i] for row in matrix] for i in range(row_len)]\n",
    "    return trans_mat"
   ]
  },
  {
   "cell_type": "code",
   "execution_count": null,
   "id": "77f09c0e-3a41-4b7b-95dd-b0ab215a0b53",
   "metadata": {
    "tags": []
   },
   "outputs": [],
   "source": [
    "#function to display the image properly from column vector matrix\n",
    "def display_image_from_col(matrix, col):\n",
    "    k = matrix[:,col].T\n",
    "    k = k.reshape(250,250)\n",
    "    img = plt.imshow(k) #show the image\n",
    "    img.set_cmap('gray')\n",
    "    plt.axis('off')\n",
    "    plt.show()"
   ]
  },
  {
   "cell_type": "code",
   "execution_count": null,
   "id": "bbb966bd-b863-4573-bbb5-68eaa7e3e6d6",
   "metadata": {
    "tags": []
   },
   "outputs": [],
   "source": [
    "#for changing image sizes to 250 X 250\n",
    "from PIL import Image\n",
    "import glob\n",
    "for images in glob.glob('imageset1/*/*.jpg'): #for all .jpg images in imageset1 folder\n",
    "    im = Image.open(images)\n",
    "    nim = im.resize((250,250))\n",
    "    nim.save(images)\n",
    "for images in glob.glob('Testset/*.jpg'): #for all .jpg images in Testset folder\n",
    "    im = Image.open(images)\n",
    "    nim = im.resize((250,250))\n",
    "    nim.save(images)"
   ]
  },
  {
   "cell_type": "code",
   "execution_count": null,
   "id": "36f8111f-7ee9-424e-81d4-1150607b27ba",
   "metadata": {
    "tags": []
   },
   "outputs": [],
   "source": [
    "#creating a matrix of column vectors from all images in imageset1\n",
    "from matplotlib.image import imread\n",
    "import matplotlib.pyplot as plt\n",
    "import numpy as np\n",
    "import glob\n",
    "plt.rcParams['figure.figsize'] = [4,4] #define size of picture to be displayed\n",
    "\n",
    "images = []\n",
    "\n",
    "for image in glob.glob('imageset1/*/*.jpg'): #for all .jpg images in imageset1 folder\n",
    "#for image in glob.glob('imageset2/*/*.jpg'): # for all .jpg images in imageset2 folder \n",
    "    A = imread(image) #import image\n",
    "    X = np.mean(A,-1); #Convert to greyscale\n",
    "    XT = np.reshape(X,[X.size,1])\n",
    "    images.append(XT) #append grey scale images into array\n",
    "    #img = plt.imshow(XT) #show the image\n",
    "    #img.set_cmap('gray')\n",
    "    #plt.axis('off')\n",
    "    #plt.show()\n",
    "    \n",
    "imagesTempArr = np.array(images)\n",
    "imagesRowMat = np.asmatrix(imagesTempArr)\n",
    "imagesColMat = np.asmatrix(imagesTempArr.T)\n",
    "print('Image column vector matrix of size ',np.shape(imagesColMat)) #prints dimensions of images Col matrix"
   ]
  },
  {
   "cell_type": "code",
   "execution_count": null,
   "id": "6c2f19a6-436a-4b13-b612-5360383a274b",
   "metadata": {
    "tags": []
   },
   "outputs": [],
   "source": [
    "#functions for Computing SVD and saving to .pkl file\n",
    "import os, pickle\n",
    "avrgcard = np.mean(imagesColMat,axis=1)  #compute avergae column\n",
    "X = imagesColMat - np.tile(avrgcard,(1,imagesColMat.shape[1]))  #subtract average col from each col\n",
    "def computeSVD(Xin):\n",
    "    if os.path.isfile(\"svd_2.pkl\"): \n",
    "        choice = input(\"Saved SVD values found! Load them now? [y]/n: \")\n",
    "        if choice[0].lower() != 'n':\n",
    "            with open('svd_2.pkl', 'rb') as f:  # Python 3: open(..., 'rb')\n",
    "                U, S, VT = pickle.load(f)\n",
    "            print(\"SVD Values loaded!\")\n",
    "        else:\n",
    "            U, S, VT = np.linalg.svd(Xin,full_matrices=False) #preform economy SVD on imageset that has been sumtracted by mean\n",
    "            S = np.diag(S) #Define sigma as the diagnals\n",
    "            choice = input(\"Do you want to save these new SVD values? [y]/n: \")\n",
    "            if choice[0].lower() != 'n':\n",
    "                with open('svd_2.pkl', 'wb') as f:\n",
    "                    pickle.dump([U, S, VT], f)\n",
    "    else:\n",
    "        U, S, VT = np.linalg.svd(Xin,full_matrices=False) #preform economy SVD on imageset that has been sumtracted by mean\n",
    "        S = np.diag(S) #Define sigma as the diagnals\n",
    "        choice = input(\"Do you want to save these new SVD values? [y]/n: \")\n",
    "        if choice[0].lower() != 'n':\n",
    "            with open('svd_2.pkl', 'wb') as f:\n",
    "                pickle.dump([U, S, VT], f)\n",
    "    return U, S, VT\n",
    "\n",
    "def computeSVDR(Xin):\n",
    "    if os.path.isfile(\"svdR_2.pkl\"): \n",
    "        choice = input(\"Saved SVDR values found! Load them now? [y]/n: \")\n",
    "        if choice[0].lower() != 'n':\n",
    "            with open('svdR_2.pkl', 'rb') as f:  # Python 3: open(..., 'rb')\n",
    "                U, S, VT = pickle.load(f)\n",
    "            print(\"SVDR Values loaded!\")\n",
    "        else:\n",
    "            U, S, VT = np.linalg.svd(Xin,full_matrices=False) #preform economy SVD on imageset that has been sumtracted by mean\n",
    "            S = np.diag(S) #Define sigma as the diagnals\n",
    "            choice = input(\"Do you want to save these new SVDR values? [y]/n: \")\n",
    "            if choice[0].lower() != 'n':\n",
    "                with open('svdR_2.pkl', 'wb') as f:\n",
    "                    pickle.dump([U, S, VT], f)\n",
    "    else:\n",
    "        U, S, VT = np.linalg.svd(Xin,full_matrices=False) #preform economy SVD on imageset that has been sumtracted by mean\n",
    "        S = np.diag(S) #Define sigma as the diagnals\n",
    "        choice = input(\"Do you want to save these new SVDR values? [y]/n: \")\n",
    "        if choice[0].lower() != 'n':\n",
    "            with open('svdR_2.pkl', 'wb') as f:\n",
    "                pickle.dump([U, S, VT], f)\n",
    "    return U, S, VT\n",
    "\n",
    "def computeSVDsimp(Xin):\n",
    "    U, S, VT = np.linalg.svd(Xin,full_matrices=False) #preform economy SVD on Matrix\n",
    "    S = np.diag(S) #Define sigma as the diagnals\n",
    "    return U, S, VT"
   ]
  },
  {
   "cell_type": "code",
   "execution_count": null,
   "id": "6676d127-8d7f-49e5-8a8e-f7424426c28a",
   "metadata": {
    "tags": []
   },
   "outputs": [],
   "source": [
    "#compute individual U matrices per category and save the first 30\n",
    "#U44s = []\n",
    "#for i in range(0,2340,45):\n",
    "#    temp = i\n",
    "#    temp2 = i+44\n",
    "#    U, S, VT = computeSVDsimp(X[:,temp:temp2])\n",
    "#    U44s.append(U)\n",
    "#print('Tuple that holds all catagory U matricies is of size ', np.shape(U44s))"
   ]
  },
  {
   "cell_type": "code",
   "execution_count": null,
   "id": "c5b101f2-badf-4a3f-8448-e4e09ef3bf17",
   "metadata": {
    "tags": []
   },
   "outputs": [],
   "source": [
    "#compute full imageset svd\n",
    "U, S, VT = computeSVD(X)\n",
    "plt.title('Average Card')\n",
    "display_image_from_col(avrgcard,0)  #dipslay average \n",
    "plt.title('First Eigen Card')\n",
    "display_image_from_col(U,0)  #display first eigen "
   ]
  },
  {
   "cell_type": "code",
   "execution_count": null,
   "id": "f8aa919e-3fed-4c12-a2d5-30f23ce5a7ed",
   "metadata": {
    "tags": []
   },
   "outputs": [],
   "source": [
    "#calculation of important singular values \n",
    "plt.figure(1)\n",
    "plt.semilogy(np.diag(S))\n",
    "plt.title('Singular Values')\n",
    "plt.show()\n",
    "\n",
    "plt.figure(2)\n",
    "plt.plot(np.cumsum(np.diag(S))/np.sum(np.diag(S)),'-o')\n",
    "plt.title('Singular Values: Cumulative Sum')\n",
    "plt.show()"
   ]
  },
  {
   "cell_type": "code",
   "execution_count": null,
   "id": "be8f3be4-e14b-4803-ab4f-9d464a4dabf5",
   "metadata": {
    "tags": []
   },
   "outputs": [],
   "source": [
    "#SVD of when images are in rows\n",
    "avrgcardR = np.mean(imagesRowMat,axis=0)  #compute average row\n",
    "XR = imagesRowMat - np.tile(avrgcardR,(imagesRowMat.shape[0],1))  #subtract average row from each row\n",
    "\n",
    "Na, No, VT = computeSVDR(XR)"
   ]
  },
  {
   "cell_type": "code",
   "execution_count": null,
   "id": "3c555c6e-dce6-4cbf-9cd9-1ef5ea4c5c22",
   "metadata": {
    "tags": []
   },
   "outputs": [],
   "source": [
    "#Graphing\n",
    "def makeGraph(Pc1,Pc2,Pc3):\n",
    "    figg = plt.figure()\n",
    "    ax = figg.add_subplot(111,projection = '3d')\n",
    "    \n",
    "    markers = ['P','d','1','^','.','o','8','s','p','*','+','x','X']\n",
    "    colors = ['b','g','r','k']\n",
    "    for j in range(495,540): #for every 3S image\n",
    "        x = VT[Pc1,:] @ imagesColMat[:,j]\n",
    "        y = VT[Pc2,:] @ imagesColMat[:,j]\n",
    "        z = VT[Pc3,:] @ imagesColMat[:,j]\n",
    "        ax.scatter(x,y,z,marker=markers[0],color=colors[0],s=50)\n",
    "    for j in range(1980,2025): #for every KC image\n",
    "        x = VT[Pc1,:] @ imagesColMat[:,j]\n",
    "        y = VT[Pc2,:] @ imagesColMat[:,j]\n",
    "        z = VT[Pc3,:] @ imagesColMat[:,j]\n",
    "        ax.scatter(x,y,z,marker=markers[1],color=colors[1],s=50)\n",
    "    ax.view_init(50,50)\n",
    "    plt.title('Pc1 = ' + str(Pc1) + ',Pc2 = ' + str(Pc2) + ',Pc3 = ' + str(Pc3))\n",
    "    plt.show()\n",
    "    return figg, ax"
   ]
  },
  {
   "cell_type": "code",
   "execution_count": null,
   "id": "2059cfa5-6dff-4678-aa78-7451d8aff279",
   "metadata": {
    "tags": []
   },
   "outputs": [],
   "source": [
    "#for i in range(1,90):\n",
    "    #makeGraph(i,i+1,i+2)\n",
    "pcaFigure, pcaAX = makeGraph(1,2,3)"
   ]
  },
  {
   "cell_type": "code",
   "execution_count": null,
   "id": "a095fbd4-b5a5-40e5-ad71-5e018ecceac0",
   "metadata": {
    "tags": []
   },
   "outputs": [],
   "source": [
    "#constructs designated test image from training data\n",
    "def constructTestImage(image):\n",
    "    A = imread(image) #import test image\n",
    "    X = np.mean(A,-1); #Convert to greyscale\n",
    "    XT = np.reshape(X,[X.size,1])\n",
    "    img = plt.imshow(X) #show the image\n",
    "    img.set_cmap('gray')\n",
    "    plt.axis('off')\n",
    "    plt.show()\n",
    "    XT = XT - avrgcard;\n",
    "    j = 0\n",
    "    for r in (100,500,1000,1500,2000):\n",
    "        #construct apporximate image with given eigens(r)\n",
    "        Xapprox = np.matmul(U[:,:r].T, XT)\n",
    "        Xapprox = np.matmul(U[:,:r], Xapprox)\n",
    "        Xapprox = Xapprox + avrgcard\n",
    "        plt.figure(j+1)\n",
    "        j+=1\n",
    "        plt.title('r = ' + str(r))\n",
    "        display_image_from_col(Xapprox,0)\n",
    "\n",
    "constructTestImage('Testset/IMG_6056.jpg')"
   ]
  },
  {
   "cell_type": "code",
   "execution_count": null,
   "id": "451fb160",
   "metadata": {
    "tags": []
   },
   "outputs": [],
   "source": [
    "#############################\n",
    "#  Section for calculating, #\n",
    "# graphing, and everything  #\n",
    "#   else for test images    #\n",
    "#############################\n",
    "\n",
    "# PCA21,22,23 had a desirable separation for the imageset2 dataset\n",
    "# Compute Test Image SVD\n",
    "images_test = []\n",
    "\n",
    "\n",
    "A_test =  imread('Testset/IMG_6051.jpg')\n",
    "X_test = np.mean(A_test, -1)\n",
    "XT_test = np.reshape(X_test,[X_test.size,1])\n",
    "images_test.append(XT_test) #append grey scale images into array\n",
    "\n",
    "A_test = imread('Testset/IMG_6056.jpg')\n",
    "X_test = np.mean(A_test, -1)\n",
    "XT_test = np.reshape(X_test,[X_test.size,1])\n",
    "images_test.append(XT_test) #append grey scale images into array\n",
    "    \n",
    "imagesTempArr_test = np.array(images_test)\n",
    "imagesRowMat_test = np.asmatrix(imagesTempArr_test)\n",
    "imagesColMat_test = np.asmatrix(imagesTempArr_test.T)\n",
    "print('Image column vector matrix of size ',np.shape(imagesColMat_test)) #prints dimensions of images Col matrix\n",
    "\n",
    "\n",
    "avrgcard_test = np.mean(imagesColMat_test,axis=1)  #compute avergae column\n",
    "X_test = imagesColMat_test - np.tile(avrgcard_test,(1,imagesColMat_test.shape[1]))  #subtract average col from each col\n",
    "\n",
    "#SVD of when images are in rows\n",
    "avrgcardR_test = np.mean(imagesRowMat_test,axis=0)  #compute average row\n",
    "XR_test = imagesRowMat_test - np.tile(avrgcardR_test,(imagesRowMat_test.shape[0],1))  #subtract average row from each row\n",
    "\n",
    "Na_test, No_test, VT_test = computeSVDR(XR_test)\n",
    "\n",
    "def projectOntoFigure(figure, axObj, pc1=1, pc2=2, pc3=3):\n",
    "    #fig = prexistingFigure\n",
    "    fig,ax = makeGraph(1,2,3)\n",
    "    \n",
    "    #for i in range(0,2):  #for every category\n",
    "        #temp = (i*44) + i\n",
    "        #temp2 = temp + 44\n",
    "        #for j in range(temp, temp2): #for every column vect in category\n",
    "    x = VT[pc1,:] @ imagesColMat_test[:,0]\n",
    "    \n",
    "    y = VT[pc2,:] @ imagesColMat_test[:,0]\n",
    "    z = VT[pc3,:] @ imagesColMat_test[:,0]\n",
    "    \n",
    "    ax.scatter(x, y, z, marker='*', color='r',s=50, label='3S')   \n",
    "\n",
    "    x = VT[pc1,:] @ imagesColMat_test[:,1]\n",
    "    y = VT[pc2,:] @ imagesColMat_test[:,1]\n",
    "    z = VT[pc3,:] @ imagesColMat_test[:,1]\n",
    "    ax.scatter(x, y, z, marker='^', color='r',s=50, label='KC')   \n",
    "\n",
    "    ax.view_init(50,50)\n",
    "    fig.show()\n",
    "\n",
    "projectOntoFigure(pcaFigure, 1, 2, 3)\n",
    "\n"
   ]
  }
 ],
 "metadata": {
  "kernelspec": {
   "display_name": "Python 3 (ipykernel)",
   "language": "python",
   "name": "python3"
  },
  "language_info": {
   "codemirror_mode": {
    "name": "ipython",
    "version": 3
   },
   "file_extension": ".py",
   "mimetype": "text/x-python",
   "name": "python",
   "nbconvert_exporter": "python",
   "pygments_lexer": "ipython3",
   "version": "3.10.10"
  }
 },
 "nbformat": 4,
 "nbformat_minor": 5
}
