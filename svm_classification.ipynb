{
 "cells": [
  {
   "cell_type": "code",
   "execution_count": null,
   "metadata": {},
   "outputs": [],
   "source": [
    "#####################\n",
    "# Begin SVM Section #\n",
    "#####################\n",
    "# Matlab states: \"You can use a support vector machine (SVM) when your data has exactly two classes.\"\n",
    "# The goal: Use SVM to classify between two classes\n",
    "#           if all 52 classes are needed, will need to split into pairs until correct one is found\n",
    "\n",
    "# Begin imports\n",
    "from scipy import io # pip install scipy\n",
    "from sklearn import svm # pip install scikit-learn\n",
    "from sklearn.model_selection import cross_val_score\n",
    "from mpl_toolkits import mplot3d\n",
    "\n",
    "from PIL import Image\n",
    "from matplotlib.image import imread\n",
    "from matplotlib import rcParams\n",
    "import matplotlib.pyplot as plt\n",
    "\n",
    "\n",
    "import glob, os, pickle\n",
    "import numpy as np\n",
    "\n",
    "print(\"Imports sucessful\")\n",
    "\n",
    "plt.rcParams['figure.figsize'] = [4, 4]\n"
   ]
  },
  {
   "cell_type": "code",
   "execution_count": null,
   "metadata": {},
   "outputs": [],
   "source": [
    "# For the purpose of testing, let the two categories be 3S (45 pics) and KC (45 pics)\n",
    "# 3S will be +1, KC will be -1\n",
    "\n",
    "# Linear SVM: wx + b =0\n",
    "images = []\n",
    "\n",
    "for image in glob.glob('imageset2/*/*.jpg'): # for all .jpg images in imageset2 folder \n",
    "    A = imread(image) #import image\n",
    "    X = np.mean(A,-1); #Convert to greyscale\n",
    "    XT = np.reshape(X,[X.size,1])\n",
    "    images.append(XT) #append grey scale images into array\n",
    "    \n",
    "    \n",
    "imagesTempArr = np.array(images)\n",
    "imagesRowMat = np.asmatrix(imagesTempArr)\n",
    "imagesColMat = np.asmatrix(imagesTempArr.T)\n",
    "print('Image column vector matrix of size ',np.shape(imagesColMat)) #prints dimensions of images Col matrix\n",
    "\n",
    "datasetSize = np.shape(imagesColMat)[1] # count of images in dataset matrix\n"
   ]
  },
  {
   "cell_type": "code",
   "execution_count": null,
   "metadata": {},
   "outputs": [],
   "source": [
    "U,S,VT = np.linalg.svd(imagesColMat-np.mean(imagesColMat),full_matrices=0)\n",
    "V = VT.T\n",
    "\n",
    "features = np.arange(1,21) # 20\n",
    "xtrain = np.concatenate((V[:60,features],V[80:140,features])) # (120, 20)\n",
    "test = np.concatenate((V[60:80,features],V[140:160,features])) # (40, 20)\n",
    "\n",
    "label = np.repeat(np.array([1,-1]),60)\n",
    "truth = np.repeat(np.array([1,-1]),20)\n",
    "\n",
    "\n",
    "Mdl = svm.SVC(kernel='rbf',gamma='auto').fit(xtrain,label)\n",
    "test_labels = Mdl.predict(test)\n",
    "\n",
    "CMdl = cross_val_score(Mdl, xtrain, label, cv=10) #cross-validate the model\n",
    "classLoss = 1-np.mean(CMdl) # average error over all cross-validation iterations"
   ]
  }
 ],
 "metadata": {
  "kernelspec": {
   "display_name": "venv",
   "language": "python",
   "name": "python3"
  },
  "language_info": {
   "codemirror_mode": {
    "name": "ipython",
    "version": 3
   },
   "file_extension": ".py",
   "mimetype": "text/x-python",
   "name": "python",
   "nbconvert_exporter": "python",
   "pygments_lexer": "ipython3",
   "version": "3.10.10"
  },
  "orig_nbformat": 4
 },
 "nbformat": 4,
 "nbformat_minor": 2
}
