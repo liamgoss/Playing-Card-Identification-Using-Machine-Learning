{
 "cells": [
  {
   "cell_type": "code",
   "execution_count": null,
   "id": "e8c01ad0-fd38-46bb-b1dc-d5e49c53f0ce",
   "metadata": {
    "tags": []
   },
   "outputs": [],
   "source": [
    "#function to trnsapose normal (non numpy) array/matrix\n",
    "def transpose_mat(matrix):\n",
    "    row_len = len(matrix[0])\n",
    "    trans_mat = [[row[i] for row in matrix] for i in range(row_len)]\n",
    "    return trans_mat"
   ]
  },
  {
   "cell_type": "code",
   "execution_count": null,
   "id": "77f09c0e-3a41-4b7b-95dd-b0ab215a0b53",
   "metadata": {
    "tags": []
   },
   "outputs": [],
   "source": [
    "#function to display the image properly from column vector matrix\n",
    "def display_image_from_col(matrix, col):\n",
    "    k = matrix[:,col].T\n",
    "    k = k.reshape(250,250)\n",
    "    img = plt.imshow(k) #show the image\n",
    "    img.set_cmap('gray')\n",
    "    plt.axis('off')\n",
    "    plt.show()"
   ]
  },
  {
   "cell_type": "code",
   "execution_count": null,
   "id": "bbb966bd-b863-4573-bbb5-68eaa7e3e6d6",
   "metadata": {
    "tags": []
   },
   "outputs": [],
   "source": [
    "#for changing image sizes to 250 X 250\n",
    "from PIL import Image\n",
    "import glob\n",
    "for images in glob.glob('imageset1/*/*.jpg'): #for all .jpg images in imageset1 folder\n",
    "    im = Image.open(images)\n",
    "    nim = im.resize((250,250))\n",
    "    nim.save(images)\n",
    "for images in glob.glob('Testset/*.jpg'): #for all .jpg images in Testset folder\n",
    "    im = Image.open(images)\n",
    "    nim = im.resize((250,250))\n",
    "    nim.save(images)"
   ]
  },
  {
   "cell_type": "code",
   "execution_count": null,
   "id": "36f8111f-7ee9-424e-81d4-1150607b27ba",
   "metadata": {
    "tags": []
   },
   "outputs": [],
   "source": [
    "#creating a matrix of column vectors from all images in imageset1\n",
    "from matplotlib.image import imread\n",
    "import matplotlib.pyplot as plt\n",
    "import numpy as np\n",
    "import glob\n",
    "plt.rcParams['figure.figsize'] = [4,4] #define size of picture to be displayed\n",
    "\n",
    "images = []\n",
    "\n",
    "for image in glob.glob('imageset1/*/*.jpg'): #for all .jpg images in imageset1 folder\n",
    "    A = imread(image) #import image\n",
    "    X = np.mean(A,-1); #Convert to greyscale\n",
    "    XT = np.reshape(X,[X.size,1])\n",
    "    images.append(XT) #append grey scale images into array\n",
    "    #img = plt.imshow(XT) #show the image\n",
    "    #img.set_cmap('gray')\n",
    "    #plt.axis('off')\n",
    "    #plt.show()\n",
    "    \n",
    "imagesTempArr = np.array(images)\n",
    "imagesColMat = np.asmatrix(imagesTempArr.T)\n",
    "print(np.shape(imagesColMat)) #prints dimensions of images Col matrix"
   ]
  },
  {
   "cell_type": "code",
   "execution_count": null,
   "id": "764f027b-dc6b-40d2-aff3-7d55ce918ca7",
   "metadata": {
    "tags": []
   },
   "outputs": [],
   "source": [
    "display_image_from_col(imagesColMat,0) #testing diplsay function"
   ]
  },
  {
   "cell_type": "code",
   "execution_count": null,
   "id": "6c2f19a6-436a-4b13-b612-5360383a274b",
   "metadata": {},
   "outputs": [],
   "source": [
    "#part not complete\n",
    "import os, pickle\n",
    "avrgcard = np.mean(imagesColMat,axis=1)  #compute avergae column\n",
    "X = imagesColMat - np.tile(avrgcard,(1,imagesColMat.shape[1]))  #subtract average col from each col\n",
    "def computeSVD():\n",
    "    if os.path.isfile(\"svd.pkl\"): \n",
    "        choice = input(\"Saved SVD values found! Load them now? [y]/n: \")\n",
    "        if choice[0].lower() != 'n':\n",
    "            with open('svd.pkl', 'rb') as f:  # Python 3: open(..., 'rb')\n",
    "                U, S, VT = pickle.load(f)\n",
    "            print(\"SVD Values loaded!\")\n",
    "        else:\n",
    "            U, S, VT = np.linalg.svd(X,full_matrices=False) #preform economy SVD on imageset that has been sumtracted by mean\n",
    "            S = np.diag(S) #Define sigma as the diagnals\n",
    "            choice = input(\"Do you want to save these new SVD values? [y]/n: \")\n",
    "            if choice[0].lower() != 'n':\n",
    "                with open('svd.pkl', 'wb') as f:\n",
    "                    pickle.dump([U, S, VT], f)\n",
    "    else:\n",
    "        U, S, VT = np.linalg.svd(X,full_matrices=False) #preform economy SVD on imageset that has been sumtracted by mean\n",
    "        S = np.diag(S) #Define sigma as the diagnals\n",
    "        choice = input(\"Do you want to save these new SVD values? [y]/n: \")\n",
    "        if choice[0].lower() != 'n':\n",
    "            with open('svd.pkl', 'wb') as f:\n",
    "                pickle.dump([U, S, VT], f)\n",
    "    return U, S, VT\n",
    "\n",
    "    \n",
    "U, S, VT = computeSVD()  #compute svd\n",
    "display_image_from_col(avrgcard,0)  #dipslay average face\n",
    "display_image_from_col(U,0)  #display first eigen face"
   ]
  },
  {
   "cell_type": "code",
   "execution_count": null,
   "id": "a095fbd4-b5a5-40e5-ad71-5e018ecceac0",
   "metadata": {
    "tags": []
   },
   "outputs": [],
   "source": [
    "def constructTestImage(image):\n",
    "    A = imread(image) #import test image\n",
    "    X = np.mean(A,-1); #Convert to greyscale\n",
    "    XT = np.reshape(X,[X.size,1])\n",
    "    img = plt.imshow(X) #show the image\n",
    "    img.set_cmap('gray')\n",
    "    plt.axis('off')\n",
    "    plt.show()\n",
    "    XT = XT - avrgcard;\n",
    "    #broken from here on\n",
    "    j = 0\n",
    "    for r in (1,10,20):\n",
    "        #construct apporximate image with given eigens(r)\n",
    "        Xapprox = avrgcard + U[:,:r] @ U[:,:r].T @ XT #calculate approx by using only a pecified number of defining elements\n",
    "        plt.figure(j+1)\n",
    "        j+=1\n",
    "        plt.title('r = ' + str(r))\n",
    "        display_image_from_col(Xapprox,0)\n",
    "#constructTestImage('Testset/IMG_6044.jpg')"
   ]
  },
  {
   "cell_type": "code",
   "execution_count": null,
   "id": "f8aa919e-3fed-4c12-a2d5-30f23ce5a7ed",
   "metadata": {
    "tags": []
   },
   "outputs": [],
   "source": [
    "#calculation of important singualr values \n",
    "plt.figure(1)\n",
    "plt.semilogy(np.diag(S))\n",
    "plt.title('Singular Values')\n",
    "plt.show()\n",
    "\n",
    "plt.figure(2)\n",
    "plt.plot(np.cumsum(np.diag(S))/np.sum(np.diag(S)))\n",
    "plt.title('Singular Values: Cumulitive Sum')\n",
    "plt.show()"
   ]
  },
  {
   "cell_type": "code",
   "execution_count": null,
   "id": "0eb9faad-a6ab-4d6c-92c7-4895a8d9dd83",
   "metadata": {},
   "outputs": [],
   "source": []
  }
 ],
 "metadata": {
  "kernelspec": {
   "display_name": "Python 3 (ipykernel)",
   "language": "python",
   "name": "python3"
  },
  "language_info": {
   "codemirror_mode": {
    "name": "ipython",
    "version": 3
   },
   "file_extension": ".py",
   "mimetype": "text/x-python",
   "name": "python",
   "nbconvert_exporter": "python",
   "pygments_lexer": "ipython3",
   "version": "3.11.1"
  }
 },
 "nbformat": 4,
 "nbformat_minor": 5
}
