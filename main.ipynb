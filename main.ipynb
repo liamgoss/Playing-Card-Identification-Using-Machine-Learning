{
 "cells": [
  {
   "cell_type": "code",
   "execution_count": null,
   "id": "e8c01ad0-fd38-46bb-b1dc-d5e49c53f0ce",
   "metadata": {
    "tags": []
   },
   "outputs": [],
   "source": [
    "#function to trnsapose normal (non numpy) array/matrix\n",
    "def transpose_mat(matrix):\n",
    "    row_len = len(matrix[0])\n",
    "    trans_mat = [[row[i] for row in matrix] for i in range(row_len)]\n",
    "    return trans_mat"
   ]
  },
  {
   "cell_type": "code",
   "execution_count": null,
   "id": "77f09c0e-3a41-4b7b-95dd-b0ab215a0b53",
   "metadata": {
    "tags": []
   },
   "outputs": [],
   "source": [
    "#function to display the image properly from column vector matrix\n",
    "def display_image_from_col(matrix, col):\n",
    "    k = matrix[:,col].T\n",
    "    k = k.reshape(500,350)\n",
    "    img = plt.imshow(k) #show the image\n",
    "    img.set_cmap('gray')\n",
    "    plt.axis('off')\n",
    "    plt.show()"
   ]
  },
  {
   "cell_type": "code",
   "execution_count": null,
   "id": "bbb966bd-b863-4573-bbb5-68eaa7e3e6d6",
   "metadata": {
    "tags": []
   },
   "outputs": [],
   "source": [
    "#for changing image sizes to 350 X 500\n",
    "from PIL import Image\n",
    "import glob\n",
    "for images in glob.glob('imageset1/*/*.jpg'): #for all .jpg images in imageset1 folder\n",
    "    im = Image.open(images)\n",
    "    nim = im.resize((350,500))\n",
    "    nim.save(images)\n",
    "for images in glob.glob('Testset/*.jpg'): #for all .jpg images in Testset folder\n",
    "    im = Image.open(images)\n",
    "    nim = im.resize((350,500))\n",
    "    nim.save(images)"
   ]
  },
  {
   "cell_type": "code",
   "execution_count": null,
   "id": "36f8111f-7ee9-424e-81d4-1150607b27ba",
   "metadata": {
    "tags": []
   },
   "outputs": [],
   "source": [
    "#creating a matrix of column vectors from all images in imageset1\n",
    "from matplotlib.image import imread\n",
    "import matplotlib.pyplot as plt\n",
    "import numpy as np\n",
    "import glob\n",
    "plt.rcParams['figure.figsize'] = [4,4] #define size of picture to be displayed\n",
    "\n",
    "images = []\n",
    "\n",
    "for image in glob.glob('imageset1/*/*.jpg'): #for all .jpg images in imageset1 folder\n",
    "    A = imread(image) #import image\n",
    "    X = np.mean(A,-1); #Convert to greyscale\n",
    "    XT = np.reshape(X,[X.size,1])\n",
    "    images.append(XT) #append grey scale images into array\n",
    "    #img = plt.imshow(XT) #show the image\n",
    "    #img.set_cmap('gray')\n",
    "    #plt.axis('off')\n",
    "    #plt.show()\n",
    "    \n",
    "imagesTempArr = np.array(images)\n",
    "imagesColMat = np.asmatrix(imagesTempArr.T)\n",
    "print(np.shape(imagesColMat)) #prints dimensions of images Col matrix"
   ]
  },
  {
   "cell_type": "code",
   "execution_count": null,
   "id": "764f027b-dc6b-40d2-aff3-7d55ce918ca7",
   "metadata": {
    "tags": []
   },
   "outputs": [],
   "source": [
    "display_image_from_col(imagesColMat,25) #testing diplsay function"
   ]
  },
  {
   "cell_type": "code",
   "execution_count": null,
   "id": "6c2f19a6-436a-4b13-b612-5360383a274b",
   "metadata": {},
   "outputs": [],
   "source": [
    "#part not complete\n",
    "\n",
    "#trainimages = imagesColMat[:,:np.sum(imagesColMat[:30])]\n",
    "#avrgcard = np.mean(trainimages,axis=1)\n",
    "#X = imagesColMat - np.tile(avrgcard,(trainimages.shape[1],1)).T  \n",
    "\n",
    "U, S, VT = np.linalg.svd(imagesColMat,full_matrices=False) #preform economy SVD on image\n",
    "S = np.diag(S) #Define sigma as the diagnals\n",
    "\n",
    "j = 0\n",
    "for r in (5,20,100):\n",
    "    #construct apporximate image with given eigens(r)\n",
    "    Xapprox = U[:,:r] @ S[0:r,:r] @ VT[:r,:] #calculate approx by using only a pecified number of defining elements\n",
    "    plt.figure(j+1)\n",
    "    j+=1\n",
    "    plt.title('r = ' + str(r))\n",
    "    display_image_from_col(Xapprox,1)"
   ]
  },
  {
   "cell_type": "code",
   "execution_count": null,
   "id": "f8aa919e-3fed-4c12-a2d5-30f23ce5a7ed",
   "metadata": {},
   "outputs": [],
   "source": [
    "#part not complete\n",
    "\n",
    "#calculation of important singualr values \n",
    "plt.figure(1)\n",
    "plt.semilogy(np.diag(S))\n",
    "plt.title('Singular Values')\n",
    "plt.show()\n",
    "\n",
    "plt.figure(2)\n",
    "plt.plot(np.cumsum(np.diag(S))/np.sum(np.diag(S)))\n",
    "plt.title('Singular Values: Cumulitive Sum')\n",
    "plt.show()"
   ]
  },
  {
   "cell_type": "code",
   "execution_count": null,
   "id": "0eb9faad-a6ab-4d6c-92c7-4895a8d9dd83",
   "metadata": {},
   "outputs": [],
   "source": []
  }
 ],
 "metadata": {
  "kernelspec": {
   "display_name": "Python 3 (ipykernel)",
   "language": "python",
   "name": "python3"
  },
  "language_info": {
   "codemirror_mode": {
    "name": "ipython",
    "version": 3
   },
   "file_extension": ".py",
   "mimetype": "text/x-python",
   "name": "python",
   "nbconvert_exporter": "python",
   "pygments_lexer": "ipython3",
   "version": "3.11.1"
  }
 },
 "nbformat": 4,
 "nbformat_minor": 5
}
