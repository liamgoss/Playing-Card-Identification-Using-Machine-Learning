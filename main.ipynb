{
 "cells": [
  {
   "cell_type": "code",
   "execution_count": null,
   "id": "e8c01ad0-fd38-46bb-b1dc-d5e49c53f0ce",
   "metadata": {
    "tags": []
   },
   "outputs": [],
   "source": [
    "#function to trnsapose normal (non numpy) array/matrix\n",
    "def transpose_mat(matrix):\n",
    "    row_len = len(matrix[0])\n",
    "    trans_mat = [[row[i] for row in matrix] for i in range(row_len)]\n",
    "    return trans_mat"
   ]
  },
  {
   "cell_type": "code",
   "execution_count": null,
   "id": "36f8111f-7ee9-424e-81d4-1150607b27ba",
   "metadata": {
    "tags": []
   },
   "outputs": [],
   "source": [
    "from matplotlib.image import imread\n",
    "import matplotlib.pyplot as plt\n",
    "import numpy as np\n",
    "import glob\n",
    "plt.rcParams['figure.figsize'] = [4,4] #define size of picture to be displayed\n",
    "\n",
    "images = []\n",
    "\n",
    "for image in glob.glob('imageset1/*.png'): #for all .png images in imageset1 folder\n",
    "    A = imread(image) #import image\n",
    "    X = np.mean(A,-1) #Convert to greyscale\n",
    "    images.append(X) #append grey scale images into array\n",
    "    img = plt.imshow(X) #show the image\n",
    "    img.set_cmap('gray')\n",
    "    plt.axis('off')\n",
    "    #plt.show()\n",
    "    \n",
    "#print(len(images),len(images[0])) #prints dimensions of images matrix\n",
    "print(images[0].shape)"
   ]
  },
  {
   "cell_type": "code",
   "execution_count": null,
   "id": "6c2f19a6-436a-4b13-b612-5360383a274b",
   "metadata": {
    "tags": []
   },
   "outputs": [],
   "source": [
    "#avrgcard = np.mean(images,axis=1)\n",
    "#X = images - np.tile(avrgcard,(images.shape[1],1)).T  \n",
    "\n",
    "U, S, VT = np.linalg.svd(X,full_matrices=False) #preform economy SVD on image\n",
    "S = np.diag(S) #Define sigma as the diagnals\n",
    "\n",
    "j = 0\n",
    "for r in (5,20,100):\n",
    "    #construct apporximate image with given eigens(r)\n",
    "    Xapprox = U[:,:r] @ S[0:r,:r] @ VT[:r,:] #calculate approx by using only a pecified number of defining elements\n",
    "    plt.figure(j+1)\n",
    "    j+=1\n",
    "    img = plt.imshow(Xapprox) #show the image\n",
    "    img.set_cmap('gray')\n",
    "    plt.axis('off')\n",
    "    plt.title('r = ' + str(r))\n",
    "    plt.show()"
   ]
  },
  {
   "cell_type": "code",
   "execution_count": null,
   "id": "f8aa919e-3fed-4c12-a2d5-30f23ce5a7ed",
   "metadata": {
    "tags": []
   },
   "outputs": [],
   "source": [
    "#calculation of important singular values \n",
    "plt.figure(1)\n",
    "plt.semilogy(np.diag(S))\n",
    "plt.title('Singular Values') # Diagonal elements of Sigma, the sigma_j values\n",
    "plt.show()\n",
    "\n",
    "plt.figure(2)\n",
    "plt.plot(np.cumsum(np.diag(S))/np.sum(np.diag(S)))\n",
    "plt.title('Singular Values: Cumulative Sum')\n",
    "plt.show()"
   ]
  },
  {
   "cell_type": "code",
   "execution_count": 3,
   "id": "0eb9faad-a6ab-4d6c-92c7-4895a8d9dd83",
   "metadata": {},
   "outputs": [
    {
     "name": "stdout",
     "output_type": "stream",
     "text": [
      "Initialised with 52 image(s) found.\n",
      "Output directory set to /Users/liam/Desktop/School/Spring_2023/ECE_172/Playing-Card-Machine-Learning/Playing-Card-Identification-Using-Machine-Learning/imageset1/original_images/output."
     ]
    },
    {
     "name": "stderr",
     "output_type": "stream",
     "text": [
      "Processing <PIL.Image.Image image mode=RGBA size=691x1056 at 0x110040C10>: 100%|████████████████████████████████████| 1560/1560 [01:28<00:00, 17.57 Samples/s]\n"
     ]
    }
   ],
   "source": [
    "# To combat overfitting, we will perform image data augmentation to create more training data\n",
    "import Augmentor, os\n",
    "#-----------Note-----------#\n",
    "# Augmentor requires blank #\n",
    "# directory of only images # \n",
    "#  no other dirs or files  #\n",
    "# make another dir called  #\n",
    "#  \"original_images\" with  #\n",
    "# just the png's from set  #\n",
    "#--------------------------#\n",
    "datasetPath = os.path.join(os.getcwd(), \"imageset1\", \"original_images\")\n",
    "pipeline = Augmentor.Pipeline(datasetPath) # First create a pipeline object\n",
    "# Now we can add \"operations\" to the pipeline -> what effects we apply to each image to augment it\n",
    "# Operation 1: Rotate somewhere between -10º and 10º determined by a 70% probability\n",
    "pipeline.rotate(probability=0.7, max_left_rotation=10, max_right_rotation=10)\n",
    "# Operation 2: Zoom either in by up to 1.5x or out by 0.5x with a probability of 30%\n",
    "pipeline.zoom(probability=0.3, min_factor=0.5, max_factor=1.5)\n",
    "pipeline.sample(1560) # Create 2000 sample images"
   ]
  },
  {
   "cell_type": "code",
   "execution_count": 6,
   "id": "1735ae72-2833-4399-9fbb-9a5a306e4970",
   "metadata": {
    "tags": []
   },
   "outputs": [
    {
     "name": "stdout",
     "output_type": "stream",
     "text": [
      "Done!\n"
     ]
    }
   ],
   "source": [
    "# Move photos to their folders\n",
    "import os, shutil, uuid, glob\n",
    "\n",
    "def createDatasetFolders():\n",
    "    # Create folder names\n",
    "    parentDirectory = os.getcwd()\n",
    "    suits = [\"C\", \"H\", \"S\", \"D\"]\n",
    "    for suit in suits:    \n",
    "        for i in range(1, 14):\n",
    "            if i == 1:\n",
    "                cardNum = \"A\" # Aces\n",
    "            elif i == 11:\n",
    "                cardNum = \"J\" # Jacks\n",
    "            elif i == 12:\n",
    "                cardNum = \"Q\" # Queens\n",
    "            elif i == 13:\n",
    "                cardNum = \"K\" # Kings\n",
    "            else:\n",
    "                cardNum = str(i) # Card num\n",
    "            path = os.path.join(parentDirectory, \"imageset1\", cardNum + suit) \n",
    "            if not os.path.exists(path):\n",
    "                # If the folder does not exist, make it\n",
    "                os.mkdir(path)\n",
    "\n",
    "def moveImageToFolder(filename):\n",
    "    # Augmentor library names files like: \"imageset1_original_{cardname).png_{gibberish}.png\"\n",
    "    firstPNGIndex = filename.find(\".png\")\n",
    "    \n",
    "    # Use recursion to find the 3rd understore\n",
    "    def find_nth(string, substring, n):\n",
    "       if (n == 1):\n",
    "           return string.find(substring)\n",
    "       else:\n",
    "           return string.find(substring, find_nth(string, substring, n - 1) + 1)\n",
    "    \n",
    "    thirdUnderscoreIndex = find_nth(filename, \"_\", 4) # make it 4 if in \"original_images\" folder\n",
    "    if firstPNGIndex != -1:\n",
    "        cardName = filename[thirdUnderscoreIndex+1:firstPNGIndex]\n",
    "        newDir = os.path.join(os.getcwd(), \"imageset1\", cardName)\n",
    "        #print(newDir)\n",
    "        newLocation = os.path.join(newDir, str(uuid.uuid4()) + \".png\")\n",
    "        # Use shutil to move the file and uuid to generate a unique filename\n",
    "        #oldLocation = os.path.join(os.getcwd(), \"imageset1\", \"original_images\", \"output\", filename)\n",
    "        shutil.move(filename, newLocation)\n",
    "\n",
    "        \n",
    "\n",
    "def moveAll():\n",
    "    for file in glob.glob('imageset1/original_images/output/*.png'):\n",
    "        try:\n",
    "            #print(file)\n",
    "            moveImageToFolder(file)\n",
    "        except Exception as e:\n",
    "            print(f\"\\n{e}\\n\")\n",
    "            continue\n",
    "    print(\"Done!\")\n",
    "    "
   ]
  },
  {
   "cell_type": "code",
   "execution_count": null,
   "id": "91b86205-acab-492e-9ec6-cfcecaf5160f",
   "metadata": {},
   "outputs": [],
   "source": []
  },
  {
   "cell_type": "code",
   "execution_count": null,
   "id": "bc15c6ad-8d7a-4567-8b06-f2fe57ee65fa",
   "metadata": {},
   "outputs": [],
   "source": []
  }
 ],
 "metadata": {
  "kernelspec": {
   "display_name": "venv",
   "language": "python",
   "name": "venv"
  },
  "language_info": {
   "codemirror_mode": {
    "name": "ipython",
    "version": 3
   },
   "file_extension": ".py",
   "mimetype": "text/x-python",
   "name": "python",
   "nbconvert_exporter": "python",
   "pygments_lexer": "ipython3",
   "version": "3.10.9"
  }
 },
 "nbformat": 4,
 "nbformat_minor": 5
}
